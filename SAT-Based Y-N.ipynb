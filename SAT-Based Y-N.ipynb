{
 "cells": [
  {
   "cell_type": "markdown",
   "metadata": {},
   "source": [
    "# A SAT-Based Approach for Mining Association Rules"
   ]
  },
  {
   "cell_type": "markdown",
   "metadata": {},
   "source": [
    "The following program takes in input the *Congressional Voting Records* dataset (https://archive.ics.uci.edu/ml/datasets/Congressional+Voting+Records) and computes its Association Rules using SAT, as proposed by Abdelhamid Boudane et al."
   ]
  },
  {
   "cell_type": "code",
   "execution_count": 1,
   "metadata": {},
   "outputs": [],
   "source": [
    "import numpy as np\n",
    "import pandas as pd\n",
    "from pysat.solvers import Minisat22\n",
    "from itertools import combinations\n",
    "from pysat.pb import *\n",
    "import time\n",
    "import datetime"
   ]
  },
  {
   "cell_type": "code",
   "execution_count": 2,
   "metadata": {},
   "outputs": [],
   "source": [
    "alpha = 0.2 #support threshold - set it s.t. size*alpha > 0\n",
    "beta = 1 #confidence threshold\n",
    "size = 50\n",
    "ARM = Minisat22()"
   ]
  },
  {
   "cell_type": "markdown",
   "metadata": {},
   "source": [
    "## Data preparation"
   ]
  },
  {
   "cell_type": "code",
   "execution_count": 3,
   "metadata": {},
   "outputs": [
    {
     "name": "stdout",
     "output_type": "stream",
     "text": [
      "435\n"
     ]
    },
    {
     "data": {
      "text/html": [
       "<div>\n",
       "<style scoped>\n",
       "    .dataframe tbody tr th:only-of-type {\n",
       "        vertical-align: middle;\n",
       "    }\n",
       "\n",
       "    .dataframe tbody tr th {\n",
       "        vertical-align: top;\n",
       "    }\n",
       "\n",
       "    .dataframe thead th {\n",
       "        text-align: right;\n",
       "    }\n",
       "</style>\n",
       "<table border=\"1\" class=\"dataframe\">\n",
       "  <thead>\n",
       "    <tr style=\"text-align: right;\">\n",
       "      <th></th>\n",
       "      <th>handicapped_infants</th>\n",
       "      <th>water_project_cost_sharing</th>\n",
       "      <th>adoption_of_the_budget_resolution</th>\n",
       "      <th>physician_fee_freeze</th>\n",
       "      <th>el_salvador_aid</th>\n",
       "      <th>religious_groups_in_schools</th>\n",
       "      <th>anti_satellite_test_ban</th>\n",
       "      <th>aid_to_nicaraguan_contras</th>\n",
       "      <th>mx_missile</th>\n",
       "      <th>immigration</th>\n",
       "      <th>synfuels_corporation_cutback</th>\n",
       "      <th>education_spending</th>\n",
       "      <th>superfund_right_to_sue</th>\n",
       "      <th>crime</th>\n",
       "      <th>duty_free_exports</th>\n",
       "      <th>export_administration_act_south_africa</th>\n",
       "      <th>republican</th>\n",
       "    </tr>\n",
       "  </thead>\n",
       "  <tbody>\n",
       "    <tr>\n",
       "      <th>0</th>\n",
       "      <td>0</td>\n",
       "      <td>1</td>\n",
       "      <td>0</td>\n",
       "      <td>1</td>\n",
       "      <td>1</td>\n",
       "      <td>1</td>\n",
       "      <td>0</td>\n",
       "      <td>0</td>\n",
       "      <td>0</td>\n",
       "      <td>1</td>\n",
       "      <td>-1</td>\n",
       "      <td>1</td>\n",
       "      <td>1</td>\n",
       "      <td>1</td>\n",
       "      <td>0</td>\n",
       "      <td>1</td>\n",
       "      <td>1</td>\n",
       "    </tr>\n",
       "    <tr>\n",
       "      <th>1</th>\n",
       "      <td>0</td>\n",
       "      <td>1</td>\n",
       "      <td>0</td>\n",
       "      <td>1</td>\n",
       "      <td>1</td>\n",
       "      <td>1</td>\n",
       "      <td>0</td>\n",
       "      <td>0</td>\n",
       "      <td>0</td>\n",
       "      <td>0</td>\n",
       "      <td>0</td>\n",
       "      <td>1</td>\n",
       "      <td>1</td>\n",
       "      <td>1</td>\n",
       "      <td>0</td>\n",
       "      <td>-1</td>\n",
       "      <td>1</td>\n",
       "    </tr>\n",
       "    <tr>\n",
       "      <th>2</th>\n",
       "      <td>-1</td>\n",
       "      <td>1</td>\n",
       "      <td>1</td>\n",
       "      <td>-1</td>\n",
       "      <td>1</td>\n",
       "      <td>1</td>\n",
       "      <td>0</td>\n",
       "      <td>0</td>\n",
       "      <td>0</td>\n",
       "      <td>0</td>\n",
       "      <td>1</td>\n",
       "      <td>0</td>\n",
       "      <td>1</td>\n",
       "      <td>1</td>\n",
       "      <td>0</td>\n",
       "      <td>0</td>\n",
       "      <td>0</td>\n",
       "    </tr>\n",
       "    <tr>\n",
       "      <th>3</th>\n",
       "      <td>0</td>\n",
       "      <td>1</td>\n",
       "      <td>1</td>\n",
       "      <td>0</td>\n",
       "      <td>-1</td>\n",
       "      <td>1</td>\n",
       "      <td>0</td>\n",
       "      <td>0</td>\n",
       "      <td>0</td>\n",
       "      <td>0</td>\n",
       "      <td>1</td>\n",
       "      <td>0</td>\n",
       "      <td>1</td>\n",
       "      <td>0</td>\n",
       "      <td>0</td>\n",
       "      <td>1</td>\n",
       "      <td>0</td>\n",
       "    </tr>\n",
       "    <tr>\n",
       "      <th>4</th>\n",
       "      <td>1</td>\n",
       "      <td>1</td>\n",
       "      <td>1</td>\n",
       "      <td>0</td>\n",
       "      <td>1</td>\n",
       "      <td>1</td>\n",
       "      <td>0</td>\n",
       "      <td>0</td>\n",
       "      <td>0</td>\n",
       "      <td>0</td>\n",
       "      <td>1</td>\n",
       "      <td>-1</td>\n",
       "      <td>1</td>\n",
       "      <td>1</td>\n",
       "      <td>1</td>\n",
       "      <td>1</td>\n",
       "      <td>0</td>\n",
       "    </tr>\n",
       "  </tbody>\n",
       "</table>\n",
       "</div>"
      ],
      "text/plain": [
       "   handicapped_infants  water_project_cost_sharing  \\\n",
       "0                    0                           1   \n",
       "1                    0                           1   \n",
       "2                   -1                           1   \n",
       "3                    0                           1   \n",
       "4                    1                           1   \n",
       "\n",
       "   adoption_of_the_budget_resolution  physician_fee_freeze  el_salvador_aid  \\\n",
       "0                                  0                     1                1   \n",
       "1                                  0                     1                1   \n",
       "2                                  1                    -1                1   \n",
       "3                                  1                     0               -1   \n",
       "4                                  1                     0                1   \n",
       "\n",
       "   religious_groups_in_schools  anti_satellite_test_ban  \\\n",
       "0                            1                        0   \n",
       "1                            1                        0   \n",
       "2                            1                        0   \n",
       "3                            1                        0   \n",
       "4                            1                        0   \n",
       "\n",
       "   aid_to_nicaraguan_contras  mx_missile  immigration  \\\n",
       "0                          0           0            1   \n",
       "1                          0           0            0   \n",
       "2                          0           0            0   \n",
       "3                          0           0            0   \n",
       "4                          0           0            0   \n",
       "\n",
       "   synfuels_corporation_cutback  education_spending  superfund_right_to_sue  \\\n",
       "0                            -1                   1                       1   \n",
       "1                             0                   1                       1   \n",
       "2                             1                   0                       1   \n",
       "3                             1                   0                       1   \n",
       "4                             1                  -1                       1   \n",
       "\n",
       "   crime  duty_free_exports  export_administration_act_south_africa  \\\n",
       "0      1                  0                                       1   \n",
       "1      1                  0                                      -1   \n",
       "2      1                  0                                       0   \n",
       "3      0                  0                                       1   \n",
       "4      1                  1                                       1   \n",
       "\n",
       "   republican  \n",
       "0           1  \n",
       "1           1  \n",
       "2           0  \n",
       "3           0  \n",
       "4           0  "
      ]
     },
     "execution_count": 3,
     "metadata": {},
     "output_type": "execute_result"
    }
   ],
   "source": [
    "colnames = [\"class_name\",\"handicapped_infants\",\"water_project_cost_sharing\",\"adoption_of_the_budget_resolution\",\n",
    "            \"physician_fee_freeze\",\"el_salvador_aid\",\"religious_groups_in_schools\",\"anti_satellite_test_ban\",\n",
    "            \"aid_to_nicaraguan_contras\",\"mx_missile\",\"immigration\",\"synfuels_corporation_cutback\",\n",
    "            \"education_spending\",\"superfund_right_to_sue\",\"crime\",\"duty_free_exports\",\n",
    "            \"export_administration_act_south_africa\"]\n",
    "\n",
    "data = pd.read_csv(\"/home/laura/Scrivania/KDMproj/house-votes-84.txt\", sep = ',',na_values = '?', header = None, \n",
    "                   names = colnames)\n",
    "data = pd.DataFrame(data)\n",
    "\n",
    "\n",
    "data[\"republican\"] = 0\n",
    "data.loc[data.class_name==\"republican\",\"republican\"] = pd.Series(np.ones(len(data.class_name==\"republican\"),dtype=int))\n",
    "del data[\"class_name\"]\n",
    "del colnames[0]\n",
    "\n",
    "items = list(data.columns)\n",
    "\n",
    "data.replace(to_replace = \"n\", value = 0, inplace = True)\n",
    "data.replace(to_replace = \"y\", value = 1, inplace = True)\n",
    "data.fillna(\"-1\",inplace = True)\n",
    "data = data.astype(\"int32\")\n",
    "\n",
    "print(len(data))\n",
    "data.head()"
   ]
  },
  {
   "cell_type": "code",
   "execution_count": 4,
   "metadata": {},
   "outputs": [],
   "source": [
    "data_small = data.iloc[:size,]"
   ]
  },
  {
   "cell_type": "code",
   "execution_count": 5,
   "metadata": {},
   "outputs": [
    {
     "data": {
      "text/plain": [
       "{1: 'handicapped_infants',\n",
       " 2: 'water_project_cost_sharing',\n",
       " 3: 'adoption_of_the_budget_resolution',\n",
       " 4: 'physician_fee_freeze',\n",
       " 5: 'el_salvador_aid',\n",
       " 6: 'religious_groups_in_schools',\n",
       " 7: 'anti_satellite_test_ban',\n",
       " 8: 'aid_to_nicaraguan_contras',\n",
       " 9: 'mx_missile',\n",
       " 10: 'immigration',\n",
       " 11: 'synfuels_corporation_cutback',\n",
       " 12: 'education_spending',\n",
       " 13: 'superfund_right_to_sue',\n",
       " 14: 'crime',\n",
       " 15: 'duty_free_exports',\n",
       " 16: 'export_administration_act_south_africa',\n",
       " 17: 'republican'}"
      ]
     },
     "execution_count": 5,
     "metadata": {},
     "output_type": "execute_result"
    }
   ],
   "source": [
    "#creates a dictionary that associates to each item \"a\" a unique integer value.\n",
    "\n",
    "items_ID = dict(zip([x for x in range(1,len(items)+1)],items))\n",
    "items_ID"
   ]
  },
  {
   "cell_type": "markdown",
   "metadata": {},
   "source": [
    "## Encoding and insertion \n",
    "\n",
    "$x_a$: if the item $a$ is in the set $X$ or not. $a$ can be of the kind $Yes$ or $No$ (e.g., republican can be true or false. two variables $x_{rep}=Yes$ and $x_{rep}=No$ will be created). when the i-th item is true-valued, the encoding will be computed with the a's ID, when false with its double.\n",
    "\n",
    "$y_a$: if the item $a$ is in the set $Y$ or not. same rules as before, but considering a's ID + 17\n",
    "\n",
    "$p_i$: if the i-th transaction contains the set $X$.\n",
    "\n",
    "$q_i$: if the i-th transaction contains the $X \\cup Y$."
   ]
  },
  {
   "cell_type": "code",
   "execution_count": 6,
   "metadata": {},
   "outputs": [],
   "source": [
    "def x(a):\n",
    "    return a"
   ]
  },
  {
   "cell_type": "code",
   "execution_count": 7,
   "metadata": {},
   "outputs": [],
   "source": [
    "def y(a):\n",
    "    return len(data_small.columns)*2+a"
   ]
  },
  {
   "cell_type": "code",
   "execution_count": 8,
   "metadata": {},
   "outputs": [],
   "source": [
    "def p(i):\n",
    "    return len(data_small.columns)*4+i"
   ]
  },
  {
   "cell_type": "code",
   "execution_count": 9,
   "metadata": {},
   "outputs": [],
   "source": [
    "def q(i):\n",
    "    return len(data_small)+len(data_small.columns)*4+i"
   ]
  },
  {
   "cell_type": "code",
   "execution_count": 10,
   "metadata": {},
   "outputs": [
    {
     "name": "stdout",
     "output_type": "stream",
     "text": [
      "Start time:  2019-10-03 12:26:55.886177\n"
     ]
    }
   ],
   "source": [
    "# Start point\n",
    "start_time = time.time()\n",
    "print(\"Start time: \", datetime.datetime.now())"
   ]
  },
  {
   "cell_type": "markdown",
   "metadata": {},
   "source": [
    "### Rule 1"
   ]
  },
  {
   "cell_type": "code",
   "execution_count": 11,
   "metadata": {},
   "outputs": [],
   "source": [
    "for a in range(1,2*len(data_small.columns)+1):\n",
    "    ARM.add_clause([-x(a),-y(a)])"
   ]
  },
  {
   "cell_type": "markdown",
   "metadata": {},
   "source": [
    "### Rule 2"
   ]
  },
  {
   "cell_type": "code",
   "execution_count": 12,
   "metadata": {},
   "outputs": [],
   "source": [
    "def rule_21(ind, k):\n",
    "    for i in range(1,np.shape(data_small)[0]+1):\n",
    "        l = [x(a) for j,a in enumerate(ind) if data.iloc[i-1,j] != k] \n",
    "        l.append(p(i))\n",
    "        ARM.add_clause(l)\n",
    "        #print(l)\n",
    "    \n",
    "rule_21(range(1,len(data_small.columns)+1),1)\n",
    "rule_21(range(len(data_small.columns)+1,2*len(data_small.columns)+1),0)"
   ]
  },
  {
   "cell_type": "code",
   "execution_count": 13,
   "metadata": {},
   "outputs": [],
   "source": [
    "def rule_22(ind, k):\n",
    "    for i in range(1,np.shape(data_small)[0]+1):\n",
    "        for j,a in enumerate(ind):\n",
    "            if data_small.iloc[i-1,j] != k :  \n",
    "                ARM.add_clause([-x(a),-p(i)])\n",
    "                #print([-x(a),-p(i)])\n",
    "\n",
    "rule_22(range(1,len(data_small.columns)+1),1)\n",
    "rule_22(range(len(data_small.columns)+1,2*len(data_small.columns)+1),0)"
   ]
  },
  {
   "cell_type": "markdown",
   "metadata": {},
   "source": [
    "### Rule 3"
   ]
  },
  {
   "cell_type": "code",
   "execution_count": 14,
   "metadata": {},
   "outputs": [],
   "source": [
    "def rule_31(ind,k):\n",
    "    for i in range(1,np.shape(data_small)[0]+1):\n",
    "        l = [y(a) for j,a in enumerate(ind) if data_small.iloc[i-1,j] != k] \n",
    "        l.append(-p(i))\n",
    "        l.append(q(i))\n",
    "        ARM.add_clause(l)\n",
    "        ARM.add_clause([-q(i),p(i)])\n",
    "        #print(l+[-q(i),p(i)])\n",
    "        \n",
    "rule_31(range(1,len(data_small.columns)+1),1)\n",
    "rule_31(range(len(data_small.columns)+1,2*len(data_small.columns)+1),0)"
   ]
  },
  {
   "cell_type": "code",
   "execution_count": 15,
   "metadata": {},
   "outputs": [],
   "source": [
    "def rule_32(ind, k):\n",
    "    for i in range(1,np.shape(data_small)[0]+1):\n",
    "        for j,a in enumerate(ind):\n",
    "            if data_small.iloc[i-1,j] != k :  \n",
    "                ARM.add_clause([-y(a),-q(i)])\n",
    "                #print([-y(a),-q(i)])\n",
    "\n",
    "rule_32(range(1,len(data_small.columns)+1),1)\n",
    "rule_32(range(len(data_small.columns)+1,2*len(data_small.columns)+1),0)"
   ]
  },
  {
   "cell_type": "markdown",
   "metadata": {},
   "source": [
    "### Rule 4"
   ]
  },
  {
   "cell_type": "code",
   "execution_count": 16,
   "metadata": {},
   "outputs": [
    {
     "name": "stdout",
     "output_type": "stream",
     "text": [
      "\n",
      "626 variables currently added \n",
      "\n"
     ]
    }
   ],
   "source": [
    "cnf = PBEnc.atleast(lits = [q(i) for i in range(1,np.shape(data_small)[0]+1)], \n",
    "                    bound = int(len(data_small)*alpha))\n",
    "\n",
    "for clause in cnf.clauses:\n",
    "    ARM.add_clause(clause)\n",
    "    #print(clause)\n",
    "    \n",
    "print(\"\\n{} variables currently added \\n\".format(ARM.nof_vars()))"
   ]
  },
  {
   "cell_type": "markdown",
   "metadata": {},
   "source": [
    "### Rule 5"
   ]
  },
  {
   "cell_type": "code",
   "execution_count": 17,
   "metadata": {},
   "outputs": [
    {
     "name": "stdout",
     "output_type": "stream",
     "text": [
      "\n",
      "3176 variables currently added \n",
      "\n"
     ]
    }
   ],
   "source": [
    "cnf = PBEnc.atleast(lits = [q(i) for i in range(1,np.shape(data_small)[0]+1)]+[p(i) for i in range(1,np.shape(data_small)[0]+1)],\n",
    "                    weights = list(np.repeat(100,np.shape(data_small)[0]))+list(np.repeat(int(-beta*100),np.shape(data_small)[0])),\n",
    "                    bound = 0, top_id = ARM.nof_vars())\n",
    "for clause in cnf.clauses:\n",
    "    ARM.add_clause(clause)"
   ]
  },
  {
   "cell_type": "markdown",
   "metadata": {},
   "source": [
    "### Rule 6"
   ]
  },
  {
   "cell_type": "code",
   "execution_count": 18,
   "metadata": {},
   "outputs": [],
   "source": [
    "#not in the paper - to avoid empty sets as X or Y\n",
    "\n",
    "X = [ x(a) for a in range(1,2*len(data_small.columns)+1)]\n",
    "Y = [ y(a) for a in range(1,2*len(data_small.columns)+1)]\n",
    "\n",
    "ARM.add_clause(X)\n",
    "ARM.add_clause(Y)"
   ]
  },
  {
   "cell_type": "code",
   "execution_count": 19,
   "metadata": {},
   "outputs": [
    {
     "name": "stdout",
     "output_type": "stream",
     "text": [
      "\n",
      "3176 variables currently used \n",
      "\n",
      "\n",
      "7845 clauses currently added \n",
      "\n"
     ]
    }
   ],
   "source": [
    "print(\"\\n{} variables currently used \\n\".format(ARM.nof_vars()))\n",
    "\n",
    "print(\"\\n{} clauses currently added \\n\".format(ARM.nof_clauses()))"
   ]
  },
  {
   "cell_type": "markdown",
   "metadata": {},
   "source": [
    "## Association rule extraction"
   ]
  },
  {
   "cell_type": "code",
   "execution_count": 20,
   "metadata": {
    "scrolled": true
   },
   "outputs": [
    {
     "name": "stdout",
     "output_type": "stream",
     "text": [
      "True\n",
      "1728\n"
     ]
    },
    {
     "data": {
      "text/plain": [
       "[array([ 4, 20, 39]),\n",
       " array([ 3,  8, 22, 55]),\n",
       " array([ 3,  8, 22, 68]),\n",
       " array([ 3,  8, 22, 55, 68]),\n",
       " array([ 3,  8, 22, 34, 55]),\n",
       " array([ 3,  8, 21, 22, 68])]"
      ]
     },
     "execution_count": 20,
     "metadata": {},
     "output_type": "execute_result"
    }
   ],
   "source": [
    "print(ARM.solve())\n",
    "if not ARM.solve(): print(ARM.get_core())\n",
    "\n",
    "res = []\n",
    "\n",
    "while ARM.solve():\n",
    "    model = np.array(ARM.get_model())\n",
    "    model = model[abs(model) <= len(data_small.columns)*4] #extracting the rule\n",
    "    ARM.add_clause([-int(model[i]) for i in range(len(model))])\n",
    "    #print(model)\n",
    "    res.append(model[model>0])\n",
    "    \n",
    "print(ARM.nof_clauses())\n",
    "res.sort(key = len)\n",
    "print(\"\\n{} rules found \\n\".format(len(res)))\n",
    "res\n"
   ]
  },
  {
   "cell_type": "code",
   "execution_count": 21,
   "metadata": {},
   "outputs": [
    {
     "data": {
      "text/plain": [
       "[array([ 4, 20, 39]),\n",
       " array([ 3,  8, 22, 55]),\n",
       " array([ 3,  8, 22, 68]),\n",
       " array([ 3,  8, 22, 55, 68])]"
      ]
     },
     "execution_count": 21,
     "metadata": {},
     "output_type": "execute_result"
    }
   ],
   "source": [
    "#finds models with minimal X, when Y is the same\n",
    "\n",
    "n = len(data_small.columns)\n",
    "\n",
    "min_models_pred = []\n",
    "minimality = [True for i in range(len(res))]\n",
    "\n",
    "for i in range(len(res)-1):\n",
    "    for j in range(i+1,len(res)):\n",
    "        if set(res[i][res[i]>2*n]) == set(res[j][res[j]>2*n]) and set(res[i][res[i]<=2*n]) < set(res[j][res[j]<=2*n]):\n",
    "            minimality[j] = False\n",
    "            \n",
    "for i, x in enumerate(minimality):\n",
    "    if x: min_models_pred.append(res[i])\n",
    "\n",
    "min_models_pred\n",
    "    "
   ]
  },
  {
   "cell_type": "code",
   "execution_count": 22,
   "metadata": {},
   "outputs": [
    {
     "data": {
      "text/plain": [
       "[array([ 4, 20, 39]), array([ 3,  8, 22, 55, 68])]"
      ]
     },
     "execution_count": 22,
     "metadata": {},
     "output_type": "execute_result"
    }
   ],
   "source": [
    "#finds models with maximal Y, when X is the same\n",
    "\n",
    "models = []\n",
    "maximality = [True for i in range(len(min_models_pred))]\n",
    "\n",
    "for i in range(len(min_models_pred)-1,0,-1):\n",
    "    for j in range(i-1,-1,-1):\n",
    "        if set(min_models_pred[i][min_models_pred[i]<=2*n]) == set(min_models_pred[j][min_models_pred[j]<=2*n]) and set(min_models_pred[i][min_models_pred[i]>2*n]) > set(min_models_pred[j][min_models_pred[j]>2*n]):\n",
    "            maximality[j] = False\n",
    "            \n",
    "for i, x in enumerate(maximality):\n",
    "    if x: models.append(res[i])\n",
    "\n",
    "models"
   ]
  },
  {
   "cell_type": "code",
   "execution_count": 23,
   "metadata": {},
   "outputs": [],
   "source": [
    "decod_rules = open(\"/home/laura/Scrivania/KDMproj/association_rules_yn.txt\", \"w\")\n",
    "\n",
    "for model in models:\n",
    "    \n",
    "    decod_rules.write(\"X = { Yes:\")\n",
    "    decod_rules.write(\" \"+str([items_ID[code] for code in model[model<=n]]))\n",
    "    decod_rules.write(\" No: \"+str([items_ID[code] for code in model[(model>n) & (model<=2*n)]-n]))\n",
    "    decod_rules.write(\"} \\nY = { Yes:\")\n",
    "    decod_rules.write(\" \"+str([items_ID[code] for code in model[(model>2*n) & (model<=3*n)]-2*n]))\n",
    "    decod_rules.write(\" No: \"+str([items_ID[code] for code in model[(model>3*n) & (model<=4*n)]-3*n]))\n",
    "    decod_rules.write(\" } \\n\\n\")\n",
    "        \n",
    "decod_rules.close()"
   ]
  },
  {
   "cell_type": "code",
   "execution_count": 24,
   "metadata": {},
   "outputs": [
    {
     "name": "stdout",
     "output_type": "stream",
     "text": [
      "End time:  2019-10-03 12:26:57.477748\n",
      "Uptime : 0:00:01.591533\n"
     ]
    }
   ],
   "source": [
    "# End point\n",
    "end_time = time.time()\n",
    "uptime = end_time - start_time\n",
    "human_uptime = datetime.timedelta(seconds=uptime)\n",
    "\n",
    "print(\"End time: \", datetime.datetime.now())\n",
    "print(\"Uptime :\" ,human_uptime)"
   ]
  }
 ],
 "metadata": {
  "kernelspec": {
   "display_name": "Python 3",
   "language": "python",
   "name": "python3"
  },
  "language_info": {
   "codemirror_mode": {
    "name": "ipython",
    "version": 3
   },
   "file_extension": ".py",
   "mimetype": "text/x-python",
   "name": "python",
   "nbconvert_exporter": "python",
   "pygments_lexer": "ipython3",
   "version": "3.7.3"
  }
 },
 "nbformat": 4,
 "nbformat_minor": 2
}
