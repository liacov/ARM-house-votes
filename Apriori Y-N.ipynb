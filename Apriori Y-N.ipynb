{
 "cells": [
  {
   "cell_type": "markdown",
   "metadata": {},
   "source": [
    "# Association rule mining with Apriori algorithm"
   ]
  },
  {
   "cell_type": "code",
   "execution_count": 5,
   "metadata": {},
   "outputs": [],
   "source": [
    "import numpy as np\n",
    "import pandas as pd\n",
    "import re\n",
    "from efficient_apriori import apriori\n",
    "import time\n",
    "import datetime"
   ]
  },
  {
   "cell_type": "code",
   "execution_count": 6,
   "metadata": {},
   "outputs": [],
   "source": [
    "size = 50"
   ]
  },
  {
   "cell_type": "markdown",
   "metadata": {},
   "source": [
    "## Data preparation"
   ]
  },
  {
   "cell_type": "code",
   "execution_count": 7,
   "metadata": {},
   "outputs": [
    {
     "data": {
      "text/html": [
       "<div>\n",
       "<style scoped>\n",
       "    .dataframe tbody tr th:only-of-type {\n",
       "        vertical-align: middle;\n",
       "    }\n",
       "\n",
       "    .dataframe tbody tr th {\n",
       "        vertical-align: top;\n",
       "    }\n",
       "\n",
       "    .dataframe thead th {\n",
       "        text-align: right;\n",
       "    }\n",
       "</style>\n",
       "<table border=\"1\" class=\"dataframe\">\n",
       "  <thead>\n",
       "    <tr style=\"text-align: right;\">\n",
       "      <th></th>\n",
       "      <th>handicapped_infants</th>\n",
       "      <th>water_project_cost_sharing</th>\n",
       "      <th>adoption_of_the_budget_resolution</th>\n",
       "      <th>physician_fee_freeze</th>\n",
       "      <th>el_salvador_aid</th>\n",
       "      <th>religious_groups_in_schools</th>\n",
       "      <th>anti_satellite_test_ban</th>\n",
       "      <th>aid_to_nicaraguan_contras</th>\n",
       "      <th>mx_missile</th>\n",
       "      <th>immigration</th>\n",
       "      <th>synfuels_corporation_cutback</th>\n",
       "      <th>education_spending</th>\n",
       "      <th>superfund_right_to_sue</th>\n",
       "      <th>crime</th>\n",
       "      <th>duty_free_exports</th>\n",
       "      <th>export_administration_act_south_africa</th>\n",
       "      <th>republican</th>\n",
       "    </tr>\n",
       "  </thead>\n",
       "  <tbody>\n",
       "    <tr>\n",
       "      <th>0</th>\n",
       "      <td>n</td>\n",
       "      <td>y</td>\n",
       "      <td>n</td>\n",
       "      <td>y</td>\n",
       "      <td>y</td>\n",
       "      <td>y</td>\n",
       "      <td>n</td>\n",
       "      <td>n</td>\n",
       "      <td>n</td>\n",
       "      <td>y</td>\n",
       "      <td>NaN</td>\n",
       "      <td>y</td>\n",
       "      <td>y</td>\n",
       "      <td>y</td>\n",
       "      <td>n</td>\n",
       "      <td>y</td>\n",
       "      <td>1</td>\n",
       "    </tr>\n",
       "    <tr>\n",
       "      <th>1</th>\n",
       "      <td>n</td>\n",
       "      <td>y</td>\n",
       "      <td>n</td>\n",
       "      <td>y</td>\n",
       "      <td>y</td>\n",
       "      <td>y</td>\n",
       "      <td>n</td>\n",
       "      <td>n</td>\n",
       "      <td>n</td>\n",
       "      <td>n</td>\n",
       "      <td>n</td>\n",
       "      <td>y</td>\n",
       "      <td>y</td>\n",
       "      <td>y</td>\n",
       "      <td>n</td>\n",
       "      <td>NaN</td>\n",
       "      <td>1</td>\n",
       "    </tr>\n",
       "    <tr>\n",
       "      <th>2</th>\n",
       "      <td>NaN</td>\n",
       "      <td>y</td>\n",
       "      <td>y</td>\n",
       "      <td>NaN</td>\n",
       "      <td>y</td>\n",
       "      <td>y</td>\n",
       "      <td>n</td>\n",
       "      <td>n</td>\n",
       "      <td>n</td>\n",
       "      <td>n</td>\n",
       "      <td>y</td>\n",
       "      <td>n</td>\n",
       "      <td>y</td>\n",
       "      <td>y</td>\n",
       "      <td>n</td>\n",
       "      <td>n</td>\n",
       "      <td>0</td>\n",
       "    </tr>\n",
       "    <tr>\n",
       "      <th>3</th>\n",
       "      <td>n</td>\n",
       "      <td>y</td>\n",
       "      <td>y</td>\n",
       "      <td>n</td>\n",
       "      <td>NaN</td>\n",
       "      <td>y</td>\n",
       "      <td>n</td>\n",
       "      <td>n</td>\n",
       "      <td>n</td>\n",
       "      <td>n</td>\n",
       "      <td>y</td>\n",
       "      <td>n</td>\n",
       "      <td>y</td>\n",
       "      <td>n</td>\n",
       "      <td>n</td>\n",
       "      <td>y</td>\n",
       "      <td>0</td>\n",
       "    </tr>\n",
       "    <tr>\n",
       "      <th>4</th>\n",
       "      <td>y</td>\n",
       "      <td>y</td>\n",
       "      <td>y</td>\n",
       "      <td>n</td>\n",
       "      <td>y</td>\n",
       "      <td>y</td>\n",
       "      <td>n</td>\n",
       "      <td>n</td>\n",
       "      <td>n</td>\n",
       "      <td>n</td>\n",
       "      <td>y</td>\n",
       "      <td>NaN</td>\n",
       "      <td>y</td>\n",
       "      <td>y</td>\n",
       "      <td>y</td>\n",
       "      <td>y</td>\n",
       "      <td>0</td>\n",
       "    </tr>\n",
       "  </tbody>\n",
       "</table>\n",
       "</div>"
      ],
      "text/plain": [
       "  handicapped_infants water_project_cost_sharing  \\\n",
       "0                   n                          y   \n",
       "1                   n                          y   \n",
       "2                 NaN                          y   \n",
       "3                   n                          y   \n",
       "4                   y                          y   \n",
       "\n",
       "  adoption_of_the_budget_resolution physician_fee_freeze el_salvador_aid  \\\n",
       "0                                 n                    y               y   \n",
       "1                                 n                    y               y   \n",
       "2                                 y                  NaN               y   \n",
       "3                                 y                    n             NaN   \n",
       "4                                 y                    n               y   \n",
       "\n",
       "  religious_groups_in_schools anti_satellite_test_ban  \\\n",
       "0                           y                       n   \n",
       "1                           y                       n   \n",
       "2                           y                       n   \n",
       "3                           y                       n   \n",
       "4                           y                       n   \n",
       "\n",
       "  aid_to_nicaraguan_contras mx_missile immigration  \\\n",
       "0                         n          n           y   \n",
       "1                         n          n           n   \n",
       "2                         n          n           n   \n",
       "3                         n          n           n   \n",
       "4                         n          n           n   \n",
       "\n",
       "  synfuels_corporation_cutback education_spending superfund_right_to_sue  \\\n",
       "0                          NaN                  y                      y   \n",
       "1                            n                  y                      y   \n",
       "2                            y                  n                      y   \n",
       "3                            y                  n                      y   \n",
       "4                            y                NaN                      y   \n",
       "\n",
       "  crime duty_free_exports export_administration_act_south_africa  republican  \n",
       "0     y                 n                                      y           1  \n",
       "1     y                 n                                    NaN           1  \n",
       "2     y                 n                                      n           0  \n",
       "3     n                 n                                      y           0  \n",
       "4     y                 y                                      y           0  "
      ]
     },
     "execution_count": 7,
     "metadata": {},
     "output_type": "execute_result"
    }
   ],
   "source": [
    "colnames = [\"class_name\",\"handicapped_infants\",\"water_project_cost_sharing\",\"adoption_of_the_budget_resolution\",\n",
    "            \"physician_fee_freeze\",\"el_salvador_aid\",\"religious_groups_in_schools\",\"anti_satellite_test_ban\",\n",
    "            \"aid_to_nicaraguan_contras\",\"mx_missile\",\"immigration\",\"synfuels_corporation_cutback\",\n",
    "            \"education_spending\",\"superfund_right_to_sue\",\"crime\",\"duty_free_exports\",\n",
    "            \"export_administration_act_south_africa\"]\n",
    "\n",
    "data = pd.read_csv(\"/home/laura/Scrivania/KDMproj/house-votes-84.txt\", sep = ',',na_values = '?', header = None, \n",
    "                   names = colnames)\n",
    "data = pd.DataFrame(data)\n",
    "\n",
    "data[\"republican\"] = 0\n",
    "data.loc[data.class_name==\"republican\",\"republican\"] = pd.Series(np.ones(len(data.class_name==\"republican\"),dtype=int))\n",
    "del data[\"class_name\"]\n",
    "del colnames[0]\n",
    "\n",
    "data.head()"
   ]
  },
  {
   "cell_type": "code",
   "execution_count": 8,
   "metadata": {},
   "outputs": [],
   "source": [
    "data = data.iloc[:size,]"
   ]
  },
  {
   "cell_type": "code",
   "execution_count": 9,
   "metadata": {
    "scrolled": false
   },
   "outputs": [],
   "source": [
    "transactions = []\n",
    "for i in range(len(data)):\n",
    "    t = []\n",
    "    for j in range(len(data.columns)-1):\n",
    "        if data.iloc[i,j] == \"y\":\n",
    "            t.append(data.columns[j]+\"_yes\")\n",
    "        if data.iloc[i,j] == \"n\":\n",
    "            t.append(data.columns[j]+\"_no\")\n",
    "    if data.iloc[i,16] == 1:\n",
    "        t.append(\"republican\")\n",
    "    if data.iloc[i,16] == 0:\n",
    "        t.append(\"democrat\")\n",
    "    transactions.append(t)"
   ]
  },
  {
   "cell_type": "markdown",
   "metadata": {},
   "source": [
    "## Association rule extraction"
   ]
  },
  {
   "cell_type": "code",
   "execution_count": 10,
   "metadata": {},
   "outputs": [
    {
     "name": "stdout",
     "output_type": "stream",
     "text": [
      "Start time:  2019-09-27 17:06:02.108024\n"
     ]
    }
   ],
   "source": [
    "# Start point\n",
    "start_time = time.time()\n",
    "print(\"Start time: \", datetime.datetime.now())"
   ]
  },
  {
   "cell_type": "code",
   "execution_count": 11,
   "metadata": {},
   "outputs": [],
   "source": [
    "itemset, rules = apriori(transactions, min_support=0.2, min_confidence=1)"
   ]
  },
  {
   "cell_type": "code",
   "execution_count": 12,
   "metadata": {},
   "outputs": [],
   "source": [
    "clean_rules = []\n",
    "for rule in rules:\n",
    "    s=str(rule)\n",
    "    s=re.sub(\" \\(.*\", \"\", s)\n",
    "    s=re.sub(\"{\", \"\", s)\n",
    "    s=re.sub(\"}\", \"\", s)\n",
    "    s=s.split(\" -> \")\n",
    "    for i, sub in enumerate(s):\n",
    "        s[i] = set(sub.split(\", \"))\n",
    "    clean_rules.append(s)"
   ]
  },
  {
   "cell_type": "code",
   "execution_count": 13,
   "metadata": {},
   "outputs": [
    {
     "name": "stdout",
     "output_type": "stream",
     "text": [
      "\n",
      "576193 rules found \n",
      "\n"
     ]
    }
   ],
   "source": [
    "print(\"\\n{} rules found \\n\".format(len(clean_rules)))"
   ]
  },
  {
   "cell_type": "code",
   "execution_count": 14,
   "metadata": {
    "scrolled": true
   },
   "outputs": [
    {
     "name": "stdout",
     "output_type": "stream",
     "text": [
      "\n",
      "161 minimal rules found \n",
      "\n"
     ]
    }
   ],
   "source": [
    "min_cons = []\n",
    "for rule in clean_rules:\n",
    "    if len(rule[1]) == 1:\n",
    "        min_cons.append(rule)\n",
    "\n",
    "min_pred = []\n",
    "min_rules = []\n",
    "for rule in min_cons:\n",
    "    is_minimal = True\n",
    "    for p in min_pred:\n",
    "        if p < rule[0]:\n",
    "            is_minimal = False\n",
    "    if is_minimal:\n",
    "        min_pred.append(rule[0])\n",
    "        min_rules.append(rule)\n",
    "\n",
    "print(\"\\n{} minimal rules found \\n\".format(len(min_rules)))"
   ]
  },
  {
   "cell_type": "code",
   "execution_count": 37,
   "metadata": {},
   "outputs": [],
   "source": [
    "#min_rules"
   ]
  },
  {
   "cell_type": "code",
   "execution_count": 15,
   "metadata": {},
   "outputs": [
    {
     "name": "stdout",
     "output_type": "stream",
     "text": [
      "[{'physician_fee_freeze_yes'}, {'adoption_of_the_budget_resolution_no'}]\n",
      "[{'adoption_of_the_budget_resolution_no'}, {'physician_fee_freeze_yes'}]\n",
      "[{'physician_fee_freeze_yes'}, {'el_salvador_aid_yes'}]\n",
      "[{'republican'}, {'physician_fee_freeze_yes'}]\n",
      "[{'duty_free_exports_no', 'el_salvador_aid_yes', 'synfuels_corporation_cutback_no'}, {'physician_fee_freeze_yes'}]\n",
      "[{'duty_free_exports_no', 'superfund_right_to_sue_yes', 'synfuels_corporation_cutback_no'}, {'physician_fee_freeze_yes'}]\n"
     ]
    }
   ],
   "source": [
    "looking_for = \"physician_fee_freeze_yes\"\n",
    "\n",
    "for rule in min_rules:\n",
    "    if looking_for in rule[0] or looking_for in rule[1]:\n",
    "        print(rule)"
   ]
  },
  {
   "cell_type": "code",
   "execution_count": 39,
   "metadata": {},
   "outputs": [
    {
     "name": "stdout",
     "output_type": "stream",
     "text": [
      "End time:  2019-09-27 10:49:56.671591\n",
      "Uptime : 0:00:25.042443\n"
     ]
    }
   ],
   "source": [
    "# End point\n",
    "end_time = time.time()\n",
    "uptime = end_time - start_time\n",
    "human_uptime = datetime.timedelta(seconds=uptime)\n",
    "\n",
    "print(\"End time: \", datetime.datetime.now())\n",
    "print(\"Uptime :\" ,human_uptime)"
   ]
  }
 ],
 "metadata": {
  "kernelspec": {
   "display_name": "Python 3",
   "language": "python",
   "name": "python3"
  },
  "language_info": {
   "codemirror_mode": {
    "name": "ipython",
    "version": 3
   },
   "file_extension": ".py",
   "mimetype": "text/x-python",
   "name": "python",
   "nbconvert_exporter": "python",
   "pygments_lexer": "ipython3",
   "version": "3.7.3"
  }
 },
 "nbformat": 4,
 "nbformat_minor": 2
}
