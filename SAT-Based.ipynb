{
 "cells": [
  {
   "cell_type": "markdown",
   "metadata": {},
   "source": [
    "# A SAT-Based Approach for Mining Association Rules\n",
    "\n",
    "The following program takes in input the *Congressional Voting Records* dataset (https://archive.ics.uci.edu/ml/datasets/Congressional+Voting+Records) and computes its Association Rules using SAT, as proposed by Abdelhamid Boudane et al."
   ]
  },
  {
   "cell_type": "code",
   "execution_count": 21,
   "metadata": {},
   "outputs": [],
   "source": [
    "import numpy as np\n",
    "import pandas as pd\n",
    "from pysat.solvers import Minisat22\n",
    "from itertools import combinations\n",
    "from pysat.pb import *\n",
    "import time\n",
    "import datetime"
   ]
  },
  {
   "cell_type": "code",
   "execution_count": 22,
   "metadata": {},
   "outputs": [],
   "source": [
    "alpha = 0.5\n",
    "beta = 1\n",
    "size = 232\n",
    "\n",
    "ARM = Minisat22()"
   ]
  },
  {
   "cell_type": "markdown",
   "metadata": {},
   "source": [
    "## Data preparation"
   ]
  },
  {
   "cell_type": "code",
   "execution_count": 23,
   "metadata": {},
   "outputs": [
    {
     "name": "stdout",
     "output_type": "stream",
     "text": [
      "232\n"
     ]
    },
    {
     "data": {
      "text/html": [
       "<div>\n",
       "<style scoped>\n",
       "    .dataframe tbody tr th:only-of-type {\n",
       "        vertical-align: middle;\n",
       "    }\n",
       "\n",
       "    .dataframe tbody tr th {\n",
       "        vertical-align: top;\n",
       "    }\n",
       "\n",
       "    .dataframe thead th {\n",
       "        text-align: right;\n",
       "    }\n",
       "</style>\n",
       "<table border=\"1\" class=\"dataframe\">\n",
       "  <thead>\n",
       "    <tr style=\"text-align: right;\">\n",
       "      <th></th>\n",
       "      <th>handicapped_infants</th>\n",
       "      <th>water_project_cost_sharing</th>\n",
       "      <th>adoption_of_the_budget_resolution</th>\n",
       "      <th>physician_fee_freeze</th>\n",
       "      <th>el_salvador_aid</th>\n",
       "      <th>religious_groups_in_schools</th>\n",
       "      <th>anti_satellite_test_ban</th>\n",
       "      <th>aid_to_nicaraguan_contras</th>\n",
       "      <th>mx_missile</th>\n",
       "      <th>immigration</th>\n",
       "      <th>synfuels_corporation_cutback</th>\n",
       "      <th>education_spending</th>\n",
       "      <th>superfund_right_to_sue</th>\n",
       "      <th>crime</th>\n",
       "      <th>duty_free_exports</th>\n",
       "      <th>export_administration_act_south_africa</th>\n",
       "      <th>republican</th>\n",
       "      <th>democrat</th>\n",
       "    </tr>\n",
       "  </thead>\n",
       "  <tbody>\n",
       "    <tr>\n",
       "      <th>5</th>\n",
       "      <td>0</td>\n",
       "      <td>1</td>\n",
       "      <td>1</td>\n",
       "      <td>0</td>\n",
       "      <td>1</td>\n",
       "      <td>1</td>\n",
       "      <td>0</td>\n",
       "      <td>0</td>\n",
       "      <td>0</td>\n",
       "      <td>0</td>\n",
       "      <td>0</td>\n",
       "      <td>0</td>\n",
       "      <td>1</td>\n",
       "      <td>1</td>\n",
       "      <td>1</td>\n",
       "      <td>1</td>\n",
       "      <td>0</td>\n",
       "      <td>1</td>\n",
       "    </tr>\n",
       "    <tr>\n",
       "      <th>8</th>\n",
       "      <td>0</td>\n",
       "      <td>1</td>\n",
       "      <td>0</td>\n",
       "      <td>1</td>\n",
       "      <td>1</td>\n",
       "      <td>1</td>\n",
       "      <td>0</td>\n",
       "      <td>0</td>\n",
       "      <td>0</td>\n",
       "      <td>0</td>\n",
       "      <td>0</td>\n",
       "      <td>1</td>\n",
       "      <td>1</td>\n",
       "      <td>1</td>\n",
       "      <td>0</td>\n",
       "      <td>1</td>\n",
       "      <td>1</td>\n",
       "      <td>0</td>\n",
       "    </tr>\n",
       "    <tr>\n",
       "      <th>19</th>\n",
       "      <td>1</td>\n",
       "      <td>1</td>\n",
       "      <td>1</td>\n",
       "      <td>0</td>\n",
       "      <td>0</td>\n",
       "      <td>0</td>\n",
       "      <td>1</td>\n",
       "      <td>1</td>\n",
       "      <td>1</td>\n",
       "      <td>0</td>\n",
       "      <td>1</td>\n",
       "      <td>0</td>\n",
       "      <td>0</td>\n",
       "      <td>0</td>\n",
       "      <td>1</td>\n",
       "      <td>1</td>\n",
       "      <td>0</td>\n",
       "      <td>1</td>\n",
       "    </tr>\n",
       "    <tr>\n",
       "      <th>23</th>\n",
       "      <td>1</td>\n",
       "      <td>1</td>\n",
       "      <td>1</td>\n",
       "      <td>0</td>\n",
       "      <td>0</td>\n",
       "      <td>0</td>\n",
       "      <td>1</td>\n",
       "      <td>1</td>\n",
       "      <td>1</td>\n",
       "      <td>0</td>\n",
       "      <td>0</td>\n",
       "      <td>0</td>\n",
       "      <td>0</td>\n",
       "      <td>0</td>\n",
       "      <td>1</td>\n",
       "      <td>1</td>\n",
       "      <td>0</td>\n",
       "      <td>1</td>\n",
       "    </tr>\n",
       "    <tr>\n",
       "      <th>25</th>\n",
       "      <td>1</td>\n",
       "      <td>0</td>\n",
       "      <td>1</td>\n",
       "      <td>0</td>\n",
       "      <td>0</td>\n",
       "      <td>0</td>\n",
       "      <td>1</td>\n",
       "      <td>1</td>\n",
       "      <td>1</td>\n",
       "      <td>1</td>\n",
       "      <td>0</td>\n",
       "      <td>0</td>\n",
       "      <td>0</td>\n",
       "      <td>0</td>\n",
       "      <td>1</td>\n",
       "      <td>1</td>\n",
       "      <td>0</td>\n",
       "      <td>1</td>\n",
       "    </tr>\n",
       "  </tbody>\n",
       "</table>\n",
       "</div>"
      ],
      "text/plain": [
       "    handicapped_infants  water_project_cost_sharing  \\\n",
       "5                     0                           1   \n",
       "8                     0                           1   \n",
       "19                    1                           1   \n",
       "23                    1                           1   \n",
       "25                    1                           0   \n",
       "\n",
       "    adoption_of_the_budget_resolution  physician_fee_freeze  el_salvador_aid  \\\n",
       "5                                   1                     0                1   \n",
       "8                                   0                     1                1   \n",
       "19                                  1                     0                0   \n",
       "23                                  1                     0                0   \n",
       "25                                  1                     0                0   \n",
       "\n",
       "    religious_groups_in_schools  anti_satellite_test_ban  \\\n",
       "5                             1                        0   \n",
       "8                             1                        0   \n",
       "19                            0                        1   \n",
       "23                            0                        1   \n",
       "25                            0                        1   \n",
       "\n",
       "    aid_to_nicaraguan_contras  mx_missile  immigration  \\\n",
       "5                           0           0            0   \n",
       "8                           0           0            0   \n",
       "19                          1           1            0   \n",
       "23                          1           1            0   \n",
       "25                          1           1            1   \n",
       "\n",
       "    synfuels_corporation_cutback  education_spending  superfund_right_to_sue  \\\n",
       "5                              0                   0                       1   \n",
       "8                              0                   1                       1   \n",
       "19                             1                   0                       0   \n",
       "23                             0                   0                       0   \n",
       "25                             0                   0                       0   \n",
       "\n",
       "    crime  duty_free_exports  export_administration_act_south_africa  \\\n",
       "5       1                  1                                       1   \n",
       "8       1                  0                                       1   \n",
       "19      0                  1                                       1   \n",
       "23      0                  1                                       1   \n",
       "25      0                  1                                       1   \n",
       "\n",
       "    republican  democrat  \n",
       "5            0         1  \n",
       "8            1         0  \n",
       "19           0         1  \n",
       "23           0         1  \n",
       "25           0         1  "
      ]
     },
     "execution_count": 23,
     "metadata": {},
     "output_type": "execute_result"
    }
   ],
   "source": [
    "colnames = [\"class_name\",\"handicapped_infants\",\"water_project_cost_sharing\",\"adoption_of_the_budget_resolution\",\n",
    "            \"physician_fee_freeze\",\"el_salvador_aid\",\"religious_groups_in_schools\",\"anti_satellite_test_ban\",\n",
    "            \"aid_to_nicaraguan_contras\",\"mx_missile\",\"immigration\",\"synfuels_corporation_cutback\",\n",
    "            \"education_spending\",\"superfund_right_to_sue\",\"crime\",\"duty_free_exports\",\n",
    "            \"export_administration_act_south_africa\"]\n",
    "\n",
    "data = pd.read_csv(\"/home/laura/Scrivania/KDMproj/house-votes-84.txt\", sep = ',',na_values = '?',\n",
    "                   header = None, names = colnames)\n",
    "data = pd.DataFrame(data)\n",
    "\n",
    "data[\"republican\"] = 0\n",
    "data.loc[data.class_name==\"republican\",\"republican\"] = pd.Series(np.ones(len(data.class_name==\"republican\"),dtype=int))\n",
    "data[\"democrat\"] = 0\n",
    "data.loc[data.class_name==\"democrat\",\"democrat\"] = pd.Series(np.ones(len(data.class_name==\"democrat\"),dtype=int))\n",
    "del data[\"class_name\"]\n",
    "del colnames[0]\n",
    "\n",
    "items = list(data.columns)\n",
    "\n",
    "data.replace(to_replace = \"n\", value = 0, inplace = True)\n",
    "data.replace(to_replace = \"y\", value = 1, inplace = True)\n",
    "data = data.dropna(axis = 0) #working with the assumption: complete data \n",
    "data = data.astype(\"int32\")\n",
    "\n",
    "print(len(data))\n",
    "data.head()"
   ]
  },
  {
   "cell_type": "code",
   "execution_count": 24,
   "metadata": {},
   "outputs": [],
   "source": [
    "data_small = data.iloc[:size,]"
   ]
  },
  {
   "cell_type": "code",
   "execution_count": 25,
   "metadata": {},
   "outputs": [
    {
     "data": {
      "text/plain": [
       "{1: 'handicapped_infants',\n",
       " 2: 'water_project_cost_sharing',\n",
       " 3: 'adoption_of_the_budget_resolution',\n",
       " 4: 'physician_fee_freeze',\n",
       " 5: 'el_salvador_aid',\n",
       " 6: 'religious_groups_in_schools',\n",
       " 7: 'anti_satellite_test_ban',\n",
       " 8: 'aid_to_nicaraguan_contras',\n",
       " 9: 'mx_missile',\n",
       " 10: 'immigration',\n",
       " 11: 'synfuels_corporation_cutback',\n",
       " 12: 'education_spending',\n",
       " 13: 'superfund_right_to_sue',\n",
       " 14: 'crime',\n",
       " 15: 'duty_free_exports',\n",
       " 16: 'export_administration_act_south_africa',\n",
       " 17: 'republican',\n",
       " 18: 'democrat'}"
      ]
     },
     "execution_count": 25,
     "metadata": {},
     "output_type": "execute_result"
    }
   ],
   "source": [
    "#creates a dictionary that associates to each item \"a\" a unique integer value.\n",
    "\n",
    "items_ID = dict(zip([x for x in range(1,len(items)+1)],items))\n",
    "items_ID"
   ]
  },
  {
   "cell_type": "markdown",
   "metadata": {},
   "source": [
    "## Encoding and insertion\n",
    "\n",
    "$x_a$: if the item a is in the set $X$ or not. The encoding will be computed with the a's ID.\n",
    "\n",
    "$y_a$: if the item a is in the set $Y$ or not. The encoding will be computed with the a's ID + 17.\n",
    "\n",
    "$p_i$: if the i-th transaction contains the set $X$.\n",
    "\n",
    "$q_i$: if the i-th transaction contains the $X \\cup Y$."
   ]
  },
  {
   "cell_type": "code",
   "execution_count": 26,
   "metadata": {},
   "outputs": [],
   "source": [
    "def x(a):\n",
    "    return a"
   ]
  },
  {
   "cell_type": "code",
   "execution_count": 27,
   "metadata": {},
   "outputs": [],
   "source": [
    "def y(a):\n",
    "    return len(data_small.columns)+a"
   ]
  },
  {
   "cell_type": "code",
   "execution_count": 28,
   "metadata": {},
   "outputs": [],
   "source": [
    "def p(i):\n",
    "    return len(data_small.columns)*2+i"
   ]
  },
  {
   "cell_type": "code",
   "execution_count": 29,
   "metadata": {},
   "outputs": [],
   "source": [
    "def q(i):\n",
    "    return len(data_small)+len(data_small.columns)*2+i"
   ]
  },
  {
   "cell_type": "code",
   "execution_count": 30,
   "metadata": {},
   "outputs": [
    {
     "name": "stdout",
     "output_type": "stream",
     "text": [
      "Start time:  2019-10-14 21:32:13.002640\n"
     ]
    }
   ],
   "source": [
    "# Start point\n",
    "start_time = time.time()\n",
    "print(\"Start time: \", datetime.datetime.now())"
   ]
  },
  {
   "cell_type": "markdown",
   "metadata": {},
   "source": [
    "### Rule 1"
   ]
  },
  {
   "cell_type": "code",
   "execution_count": 31,
   "metadata": {},
   "outputs": [],
   "source": [
    "#rule 1\n",
    "for a in range(1,len(data_small.columns)+1):\n",
    "    ARM.add_clause([-x(a),-y(a)])\n"
   ]
  },
  {
   "cell_type": "markdown",
   "metadata": {},
   "source": [
    "### Rule 2"
   ]
  },
  {
   "cell_type": "code",
   "execution_count": 32,
   "metadata": {},
   "outputs": [],
   "source": [
    "#first part rule 2 - CNF\n",
    "for i in range(1,np.shape(data_small)[0]+1):\n",
    "    l = [x(a) for a in items_ID.keys() if data.iloc[i-1,a-1] == 0] \n",
    "    l.append(p(i))\n",
    "    ARM.add_clause(l)"
   ]
  },
  {
   "cell_type": "code",
   "execution_count": 33,
   "metadata": {},
   "outputs": [],
   "source": [
    "#second part rule 2 - CNF\n",
    "for i in range(1,np.shape(data_small)[0]+1):\n",
    "    for a in items_ID.keys():\n",
    "        if data_small.iloc[i-1,a-1] == 0:  \n",
    "            Minisat22().add_clause([-x(a),-p(i)])"
   ]
  },
  {
   "cell_type": "markdown",
   "metadata": {},
   "source": [
    "### Rule 3"
   ]
  },
  {
   "cell_type": "code",
   "execution_count": 34,
   "metadata": {},
   "outputs": [],
   "source": [
    "#first part rule 3 - CNF\n",
    "for i in range(1,np.shape(data_small)[0]+1):\n",
    "    l = [y(a) for a in items_ID.keys() if data_small.iloc[i-1,a-1] == 0] \n",
    "    l.append(-p(i))\n",
    "    l.append(q(i))\n",
    "    ARM.add_clause(l)\n",
    "    ARM.add_clause([-q(i),p(i)])"
   ]
  },
  {
   "cell_type": "code",
   "execution_count": 35,
   "metadata": {},
   "outputs": [],
   "source": [
    "#second part rule 3 - CNF \n",
    "\n",
    "for i in range(1,np.shape(data_small)[0]+1):\n",
    "    for a in items_ID.keys():\n",
    "        if data_small.iloc[i-1,a-1] == 0:  \n",
    "            ARM.add_clause([-y(a),-q(i)])"
   ]
  },
  {
   "cell_type": "markdown",
   "metadata": {},
   "source": [
    "### Rule 4"
   ]
  },
  {
   "cell_type": "code",
   "execution_count": 36,
   "metadata": {},
   "outputs": [
    {
     "name": "stdout",
     "output_type": "stream",
     "text": [
      "\n",
      "4877 variables currently added \n",
      "\n"
     ]
    }
   ],
   "source": [
    "#PSEUDO BOOLEAN\n",
    "\n",
    "cnf = PBEnc.atleast(lits = [q(i) for i in range(1,np.shape(data_small)[0]+1)], \n",
    "                    bound = int(len(data_small)*alpha))\n",
    "\n",
    "for clause in cnf.clauses:\n",
    "    ARM.add_clause(clause)\n",
    "\n",
    "print(\"\\n{} variables currently added \\n\".format(ARM.nof_vars()))"
   ]
  },
  {
   "cell_type": "markdown",
   "metadata": {},
   "source": [
    "### Rule 5"
   ]
  },
  {
   "cell_type": "code",
   "execution_count": 37,
   "metadata": {},
   "outputs": [
    {
     "name": "stdout",
     "output_type": "stream",
     "text": [
      "\n",
      "58933 variables currently added \n",
      "\n"
     ]
    }
   ],
   "source": [
    "#PSEUDO BOOLEAN\n",
    "\n",
    "cnf = PBEnc.atleast(lits = [q(i) for i in range(1,np.shape(data_small)[0]+1)]+[p(i) for i in range(1,np.shape(data_small)[0]+1)],\n",
    "                    weights = [100 for i in range(1,np.shape(data_small)[0]+1)]+[-int(beta*100) for i in range(1,np.shape(data_small)[0]+1)],\n",
    "                    bound = 0, top_id = ARM.nof_vars())\n",
    "\n",
    "for clause in cnf.clauses:\n",
    "    ARM.add_clause(clause)"
   ]
  },
  {
   "cell_type": "markdown",
   "metadata": {},
   "source": [
    "### Rule 6"
   ]
  },
  {
   "cell_type": "code",
   "execution_count": 38,
   "metadata": {},
   "outputs": [],
   "source": [
    "#(not in the paper) - to avoid empty sets as X or Y\n",
    "\n",
    "X = [ x(a) for a in range(1,len(data_small.columns)+1)]\n",
    "Y = [ y(a) for a in range(1,len(data_small.columns)+1)]\n",
    "\n",
    "ARM.add_clause(X)\n",
    "ARM.add_clause(Y)"
   ]
  },
  {
   "cell_type": "code",
   "execution_count": 39,
   "metadata": {},
   "outputs": [
    {
     "name": "stdout",
     "output_type": "stream",
     "text": [
      "\n",
      "58933 variables currently added \n",
      "\n",
      "\n",
      "119110 clauses currently added \n",
      "\n"
     ]
    }
   ],
   "source": [
    "print(\"\\n{} variables currently added \\n\".format(ARM.nof_vars()))\n",
    "\n",
    "print(\"\\n{} clauses currently added \\n\".format(ARM.nof_clauses()))"
   ]
  },
  {
   "cell_type": "markdown",
   "metadata": {},
   "source": [
    "## Association rule extraction"
   ]
  },
  {
   "cell_type": "code",
   "execution_count": 40,
   "metadata": {},
   "outputs": [
    {
     "name": "stdout",
     "output_type": "stream",
     "text": [
      "True\n"
     ]
    },
    {
     "ename": "KeyboardInterrupt",
     "evalue": "",
     "output_type": "error",
     "traceback": [
      "\u001b[0;31m---------------------------------------------------------------------------\u001b[0m",
      "\u001b[0;31mKeyboardInterrupt\u001b[0m                         Traceback (most recent call last)",
      "\u001b[0;32m<ipython-input-40-31edb042e7f4>\u001b[0m in \u001b[0;36m<module>\u001b[0;34m\u001b[0m\n\u001b[1;32m      5\u001b[0m \u001b[0;34m\u001b[0m\u001b[0m\n\u001b[1;32m      6\u001b[0m \u001b[0;32mwhile\u001b[0m \u001b[0mARM\u001b[0m\u001b[0;34m.\u001b[0m\u001b[0msolve\u001b[0m\u001b[0;34m(\u001b[0m\u001b[0;34m)\u001b[0m\u001b[0;34m:\u001b[0m\u001b[0;34m\u001b[0m\u001b[0;34m\u001b[0m\u001b[0m\n\u001b[0;32m----> 7\u001b[0;31m     \u001b[0mmodel\u001b[0m \u001b[0;34m=\u001b[0m \u001b[0mnp\u001b[0m\u001b[0;34m.\u001b[0m\u001b[0marray\u001b[0m\u001b[0;34m(\u001b[0m\u001b[0mARM\u001b[0m\u001b[0;34m.\u001b[0m\u001b[0mget_model\u001b[0m\u001b[0;34m(\u001b[0m\u001b[0;34m)\u001b[0m\u001b[0;34m)\u001b[0m\u001b[0;34m\u001b[0m\u001b[0;34m\u001b[0m\u001b[0m\n\u001b[0m\u001b[1;32m      8\u001b[0m     \u001b[0mmodel\u001b[0m \u001b[0;34m=\u001b[0m \u001b[0mmodel\u001b[0m\u001b[0;34m[\u001b[0m\u001b[0mabs\u001b[0m\u001b[0;34m(\u001b[0m\u001b[0mmodel\u001b[0m\u001b[0;34m)\u001b[0m \u001b[0;34m<=\u001b[0m \u001b[0mlen\u001b[0m\u001b[0;34m(\u001b[0m\u001b[0mdata_small\u001b[0m\u001b[0;34m.\u001b[0m\u001b[0mcolumns\u001b[0m\u001b[0;34m)\u001b[0m\u001b[0;34m*\u001b[0m\u001b[0;36m2\u001b[0m\u001b[0;34m]\u001b[0m \u001b[0;31m#extracting the rule\u001b[0m\u001b[0;34m\u001b[0m\u001b[0;34m\u001b[0m\u001b[0m\n\u001b[1;32m      9\u001b[0m     \u001b[0mARM\u001b[0m\u001b[0;34m.\u001b[0m\u001b[0madd_clause\u001b[0m\u001b[0;34m(\u001b[0m\u001b[0;34m[\u001b[0m\u001b[0;34m-\u001b[0m\u001b[0mint\u001b[0m\u001b[0;34m(\u001b[0m\u001b[0mmodel\u001b[0m\u001b[0;34m[\u001b[0m\u001b[0mi\u001b[0m\u001b[0;34m]\u001b[0m\u001b[0;34m)\u001b[0m \u001b[0;32mfor\u001b[0m \u001b[0mi\u001b[0m \u001b[0;32min\u001b[0m \u001b[0mrange\u001b[0m\u001b[0;34m(\u001b[0m\u001b[0mlen\u001b[0m\u001b[0;34m(\u001b[0m\u001b[0mmodel\u001b[0m\u001b[0;34m)\u001b[0m\u001b[0;34m)\u001b[0m\u001b[0;34m]\u001b[0m\u001b[0;34m)\u001b[0m\u001b[0;34m\u001b[0m\u001b[0;34m\u001b[0m\u001b[0m\n",
      "\u001b[0;31mKeyboardInterrupt\u001b[0m: "
     ]
    }
   ],
   "source": [
    "print(ARM.solve())\n",
    "if not ARM.solve(): print(ARM.get_core())\n",
    "\n",
    "res = []\n",
    "\n",
    "while ARM.solve():\n",
    "    model = np.array(ARM.get_model())\n",
    "    model = model[abs(model) <= len(data_small.columns)*2] #extracting the rule\n",
    "    ARM.add_clause([-int(model[i]) for i in range(len(model))])\n",
    "    #print(model)\n",
    "    res.append(model[model>0])\n",
    "    \n",
    "print(ARM.nof_clauses())\n",
    "res.sort(key = len)\n",
    "print(\"\\n{} rules found \\n\".format(len(res)))\n",
    "res"
   ]
  },
  {
   "cell_type": "code",
   "execution_count": null,
   "metadata": {},
   "outputs": [],
   "source": [
    "#finds models with minimal X, when Y is the same\n",
    "\n",
    "n = len(data_small.columns)\n",
    "\n",
    "min_models_pred = []\n",
    "minimality = [True for i in range(len(res))]\n",
    "\n",
    "for i in range(len(res)-1):\n",
    "    for j in range(i+1,len(res)):\n",
    "        if set(res[i][res[i]>n]) == set(res[j][res[j]>n]) and set(res[i][res[i]<=n]) < set(res[j][res[j]<=n]):\n",
    "            minimality[j] = False\n",
    "            \n",
    "for i, x in enumerate(minimality):\n",
    "    if x: min_models_pred.append(res[i])\n",
    "\n",
    "min_models_pred\n",
    "    "
   ]
  },
  {
   "cell_type": "code",
   "execution_count": null,
   "metadata": {},
   "outputs": [],
   "source": [
    "#finds models with maximal Y, when X is the same\n",
    "\n",
    "models = []\n",
    "maximality = [True for i in range(len(min_models_pred))]\n",
    "\n",
    "for i in range(len(min_models_pred)-1,0,-1):\n",
    "    for j in range(i-1,-1,-1):\n",
    "        if set(min_models_pred[i][min_models_pred[i]<=n]) == set(min_models_pred[j][min_models_pred[j]<=n]) and set(min_models_pred[i][min_models_pred[i]>n]) > set(min_models_pred[j][min_models_pred[j]>n]):\n",
    "            maximality[j] = False\n",
    "            \n",
    "for i, x in enumerate(maximality):\n",
    "    if x: models.append(res[i])\n",
    "\n",
    "models"
   ]
  },
  {
   "cell_type": "code",
   "execution_count": null,
   "metadata": {},
   "outputs": [],
   "source": [
    "# End point\n",
    "end_time = time.time()\n",
    "uptime = end_time - start_time\n",
    "human_uptime = datetime.timedelta(seconds=uptime)\n",
    "\n",
    "print(\"End time: \", datetime.datetime.now())\n",
    "print(\"Uptime :\" ,human_uptime)"
   ]
  }
 ],
 "metadata": {
  "kernelspec": {
   "display_name": "Python 3",
   "language": "python",
   "name": "python3"
  },
  "language_info": {
   "codemirror_mode": {
    "name": "ipython",
    "version": 3
   },
   "file_extension": ".py",
   "mimetype": "text/x-python",
   "name": "python",
   "nbconvert_exporter": "python",
   "pygments_lexer": "ipython3",
   "version": "3.7.3"
  }
 },
 "nbformat": 4,
 "nbformat_minor": 2
}
