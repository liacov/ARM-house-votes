{
 "cells": [
  {
   "cell_type": "markdown",
   "metadata": {},
   "source": [
    "# Association rule mining with Apriori algorithm"
   ]
  },
  {
   "cell_type": "code",
   "execution_count": 89,
   "metadata": {},
   "outputs": [],
   "source": [
    "import numpy as np\n",
    "import pandas as pd\n",
    "import re\n",
    "from efficient_apriori import apriori"
   ]
  },
  {
   "cell_type": "markdown",
   "metadata": {},
   "source": [
    "## Data preparation"
   ]
  },
  {
   "cell_type": "code",
   "execution_count": 90,
   "metadata": {},
   "outputs": [
    {
     "data": {
      "text/html": [
       "<div>\n",
       "<style scoped>\n",
       "    .dataframe tbody tr th:only-of-type {\n",
       "        vertical-align: middle;\n",
       "    }\n",
       "\n",
       "    .dataframe tbody tr th {\n",
       "        vertical-align: top;\n",
       "    }\n",
       "\n",
       "    .dataframe thead th {\n",
       "        text-align: right;\n",
       "    }\n",
       "</style>\n",
       "<table border=\"1\" class=\"dataframe\">\n",
       "  <thead>\n",
       "    <tr style=\"text-align: right;\">\n",
       "      <th></th>\n",
       "      <th>handicapped_infants</th>\n",
       "      <th>water_project_cost_sharing</th>\n",
       "      <th>adoption_of_the_budget_resolution</th>\n",
       "      <th>physician_fee_freeze</th>\n",
       "      <th>el_salvador_aid</th>\n",
       "      <th>religious_groups_in_schools</th>\n",
       "      <th>anti_satellite_test_ban</th>\n",
       "      <th>aid_to_nicaraguan_contras</th>\n",
       "      <th>mx_missile</th>\n",
       "      <th>immigration</th>\n",
       "      <th>synfuels_corporation_cutback</th>\n",
       "      <th>education_spending</th>\n",
       "      <th>superfund_right_to_sue</th>\n",
       "      <th>crime</th>\n",
       "      <th>duty_free_exports</th>\n",
       "      <th>export_administration_act_south_africa</th>\n",
       "      <th>republican</th>\n",
       "    </tr>\n",
       "  </thead>\n",
       "  <tbody>\n",
       "    <tr>\n",
       "      <th>5</th>\n",
       "      <td>n</td>\n",
       "      <td>y</td>\n",
       "      <td>y</td>\n",
       "      <td>n</td>\n",
       "      <td>y</td>\n",
       "      <td>y</td>\n",
       "      <td>n</td>\n",
       "      <td>n</td>\n",
       "      <td>n</td>\n",
       "      <td>n</td>\n",
       "      <td>n</td>\n",
       "      <td>n</td>\n",
       "      <td>y</td>\n",
       "      <td>y</td>\n",
       "      <td>y</td>\n",
       "      <td>y</td>\n",
       "      <td>0</td>\n",
       "    </tr>\n",
       "    <tr>\n",
       "      <th>8</th>\n",
       "      <td>n</td>\n",
       "      <td>y</td>\n",
       "      <td>n</td>\n",
       "      <td>y</td>\n",
       "      <td>y</td>\n",
       "      <td>y</td>\n",
       "      <td>n</td>\n",
       "      <td>n</td>\n",
       "      <td>n</td>\n",
       "      <td>n</td>\n",
       "      <td>n</td>\n",
       "      <td>y</td>\n",
       "      <td>y</td>\n",
       "      <td>y</td>\n",
       "      <td>n</td>\n",
       "      <td>y</td>\n",
       "      <td>1</td>\n",
       "    </tr>\n",
       "    <tr>\n",
       "      <th>19</th>\n",
       "      <td>y</td>\n",
       "      <td>y</td>\n",
       "      <td>y</td>\n",
       "      <td>n</td>\n",
       "      <td>n</td>\n",
       "      <td>n</td>\n",
       "      <td>y</td>\n",
       "      <td>y</td>\n",
       "      <td>y</td>\n",
       "      <td>n</td>\n",
       "      <td>y</td>\n",
       "      <td>n</td>\n",
       "      <td>n</td>\n",
       "      <td>n</td>\n",
       "      <td>y</td>\n",
       "      <td>y</td>\n",
       "      <td>0</td>\n",
       "    </tr>\n",
       "    <tr>\n",
       "      <th>23</th>\n",
       "      <td>y</td>\n",
       "      <td>y</td>\n",
       "      <td>y</td>\n",
       "      <td>n</td>\n",
       "      <td>n</td>\n",
       "      <td>n</td>\n",
       "      <td>y</td>\n",
       "      <td>y</td>\n",
       "      <td>y</td>\n",
       "      <td>n</td>\n",
       "      <td>n</td>\n",
       "      <td>n</td>\n",
       "      <td>n</td>\n",
       "      <td>n</td>\n",
       "      <td>y</td>\n",
       "      <td>y</td>\n",
       "      <td>0</td>\n",
       "    </tr>\n",
       "    <tr>\n",
       "      <th>25</th>\n",
       "      <td>y</td>\n",
       "      <td>n</td>\n",
       "      <td>y</td>\n",
       "      <td>n</td>\n",
       "      <td>n</td>\n",
       "      <td>n</td>\n",
       "      <td>y</td>\n",
       "      <td>y</td>\n",
       "      <td>y</td>\n",
       "      <td>y</td>\n",
       "      <td>n</td>\n",
       "      <td>n</td>\n",
       "      <td>n</td>\n",
       "      <td>n</td>\n",
       "      <td>y</td>\n",
       "      <td>y</td>\n",
       "      <td>0</td>\n",
       "    </tr>\n",
       "  </tbody>\n",
       "</table>\n",
       "</div>"
      ],
      "text/plain": [
       "   handicapped_infants water_project_cost_sharing  \\\n",
       "5                    n                          y   \n",
       "8                    n                          y   \n",
       "19                   y                          y   \n",
       "23                   y                          y   \n",
       "25                   y                          n   \n",
       "\n",
       "   adoption_of_the_budget_resolution physician_fee_freeze el_salvador_aid  \\\n",
       "5                                  y                    n               y   \n",
       "8                                  n                    y               y   \n",
       "19                                 y                    n               n   \n",
       "23                                 y                    n               n   \n",
       "25                                 y                    n               n   \n",
       "\n",
       "   religious_groups_in_schools anti_satellite_test_ban  \\\n",
       "5                            y                       n   \n",
       "8                            y                       n   \n",
       "19                           n                       y   \n",
       "23                           n                       y   \n",
       "25                           n                       y   \n",
       "\n",
       "   aid_to_nicaraguan_contras mx_missile immigration  \\\n",
       "5                          n          n           n   \n",
       "8                          n          n           n   \n",
       "19                         y          y           n   \n",
       "23                         y          y           n   \n",
       "25                         y          y           y   \n",
       "\n",
       "   synfuels_corporation_cutback education_spending superfund_right_to_sue  \\\n",
       "5                             n                  n                      y   \n",
       "8                             n                  y                      y   \n",
       "19                            y                  n                      n   \n",
       "23                            n                  n                      n   \n",
       "25                            n                  n                      n   \n",
       "\n",
       "   crime duty_free_exports export_administration_act_south_africa  republican  \n",
       "5      y                 y                                      y           0  \n",
       "8      y                 n                                      y           1  \n",
       "19     n                 y                                      y           0  \n",
       "23     n                 y                                      y           0  \n",
       "25     n                 y                                      y           0  "
      ]
     },
     "execution_count": 90,
     "metadata": {},
     "output_type": "execute_result"
    }
   ],
   "source": [
    "colnames = [\"class_name\",\"handicapped_infants\",\"water_project_cost_sharing\",\"adoption_of_the_budget_resolution\",\n",
    "            \"physician_fee_freeze\",\"el_salvador_aid\",\"religious_groups_in_schools\",\"anti_satellite_test_ban\",\n",
    "            \"aid_to_nicaraguan_contras\",\"mx_missile\",\"immigration\",\"synfuels_corporation_cutback\",\n",
    "            \"education_spending\",\"superfund_right_to_sue\",\"crime\",\"duty_free_exports\",\n",
    "            \"export_administration_act_south_africa\"]\n",
    "\n",
    "data = pd.read_csv(\"/home/laura/Scrivania/KDMproj/house-votes-84.txt\", sep = ',',na_values = '?', header = None, \n",
    "                   names = colnames)\n",
    "data = pd.DataFrame(data)\n",
    "\n",
    "\n",
    "data[\"republican\"] = 0\n",
    "data.loc[data.class_name==\"republican\",\"republican\"] = pd.Series(np.ones(len(data.class_name==\"republican\"),dtype=int))\n",
    "del data[\"class_name\"]\n",
    "del colnames[0]\n",
    "data = data.dropna(axis = 0) #working with the assumption: complete data\n",
    "\n",
    "\n",
    "data.head()"
   ]
  },
  {
   "cell_type": "code",
   "execution_count": 91,
   "metadata": {
    "scrolled": false
   },
   "outputs": [],
   "source": [
    "transactions = []\n",
    "for i in range(len(data)):\n",
    "    t = []\n",
    "    for j in range(len(data.columns)-1):\n",
    "        if data.iloc[i,j] == \"y\":\n",
    "            t.append(data.columns[j])\n",
    "    if data.iloc[i,16] == 1:\n",
    "        t.append(\"republican\")\n",
    "    else:\n",
    "        t.append(\"democrat\")\n",
    "    transactions.append(t)"
   ]
  },
  {
   "cell_type": "markdown",
   "metadata": {},
   "source": [
    "## Association rule extraction"
   ]
  },
  {
   "cell_type": "code",
   "execution_count": 92,
   "metadata": {},
   "outputs": [],
   "source": [
    "itemset, rules = apriori(transactions, min_support=0.8, min_confidence=0)"
   ]
  },
  {
   "cell_type": "code",
   "execution_count": 93,
   "metadata": {},
   "outputs": [],
   "source": [
    "clean_rules = []\n",
    "for rule in rules:\n",
    "    s=str(rule)\n",
    "    s=re.sub(\" \\(.*\", \"\", s)\n",
    "    s=re.sub(\"{\", \"\", s)\n",
    "    s=re.sub(\"}\", \"\", s)\n",
    "    s=s.split(\" -> \")\n",
    "    for i, sub in enumerate(s):\n",
    "        s[i] = set(sub.split(\", \"))\n",
    "    clean_rules.append(s)"
   ]
  },
  {
   "cell_type": "code",
   "execution_count": 94,
   "metadata": {},
   "outputs": [
    {
     "name": "stdout",
     "output_type": "stream",
     "text": [
      "\n",
      "0 rules found \n",
      "\n"
     ]
    }
   ],
   "source": [
    "print(\"\\n{} rules found \\n\".format(len(clean_rules)))"
   ]
  },
  {
   "cell_type": "code",
   "execution_count": 95,
   "metadata": {},
   "outputs": [
    {
     "name": "stdout",
     "output_type": "stream",
     "text": [
      "\n",
      "0 minimal rules found \n",
      "\n"
     ]
    }
   ],
   "source": [
    "min_cons = []\n",
    "for rule in clean_rules:\n",
    "    if len(rule[1]) == 1:\n",
    "        min_cons.append(rule)\n",
    "\n",
    "min_pred = []\n",
    "min_rules = []\n",
    "for rule in min_cons:\n",
    "    is_minimal = True\n",
    "    for p in min_pred:\n",
    "        if p < rule[0]:\n",
    "            is_minimal = False\n",
    "    if is_minimal:\n",
    "        min_pred.append(rule[0])\n",
    "        min_rules.append(rule)\n",
    "\n",
    "print(\"\\n{} minimal rules found \\n\".format(len(min_rules)))"
   ]
  },
  {
   "cell_type": "code",
   "execution_count": 96,
   "metadata": {
    "scrolled": false
   },
   "outputs": [
    {
     "data": {
      "text/plain": [
       "[]"
      ]
     },
     "execution_count": 96,
     "metadata": {},
     "output_type": "execute_result"
    }
   ],
   "source": [
    "min_rules"
   ]
  }
 ],
 "metadata": {
  "kernelspec": {
   "display_name": "Python 3",
   "language": "python",
   "name": "python3"
  },
  "language_info": {
   "codemirror_mode": {
    "name": "ipython",
    "version": 3
   },
   "file_extension": ".py",
   "mimetype": "text/x-python",
   "name": "python",
   "nbconvert_exporter": "python",
   "pygments_lexer": "ipython3",
   "version": "3.7.3"
  }
 },
 "nbformat": 4,
 "nbformat_minor": 2
}
